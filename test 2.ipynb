{
 "cells": [
  {
   "cell_type": "code",
   "execution_count": 1,
   "id": "0129fbeb-bcb3-48d3-b5be-c3779061c190",
   "metadata": {},
   "outputs": [
    {
     "name": "stdout",
     "output_type": "stream",
     "text": [
      "Simulation successful: True\n"
     ]
    }
   ],
   "source": [
    "import numpy as np\n",
    "\n",
    "def simulate_flow(dt=0.01, steps=100):\n",
    "    velocity = np.array([1.0, 0.0])\n",
    "    for _ in range(steps):\n",
    "        velocity += dt * (-velocity + np.random.normal(scale=0.1))\n",
    "    return not np.any(np.isnan(velocity))\n",
    "\n",
    "if __name__ == \"__main__\":\n",
    "    result = simulate_flow()\n",
    "    print(\"Simulation successful:\", result)"
   ]
  },
  {
   "cell_type": "code",
   "execution_count": null,
   "id": "fad8066f-beba-4ffc-a9db-83d85e2b06f7",
   "metadata": {},
   "outputs": [],
   "source": []
  }
 ],
 "metadata": {
  "kernelspec": {
   "display_name": "Python [conda env:base] *",
   "language": "python",
   "name": "conda-base-py"
  },
  "language_info": {
   "codemirror_mode": {
    "name": "ipython",
    "version": 3
   },
   "file_extension": ".py",
   "mimetype": "text/x-python",
   "name": "python",
   "nbconvert_exporter": "python",
   "pygments_lexer": "ipython3",
   "version": "3.12.7"
  }
 },
 "nbformat": 4,
 "nbformat_minor": 5
}
